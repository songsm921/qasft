{
 "cells": [
  {
   "cell_type": "code",
   "execution_count": 1,
   "id": "e0f7d9c8",
   "metadata": {},
   "outputs": [
    {
     "name": "stderr",
     "output_type": "stream",
     "text": [
      "/usr/local/lib/python3.10/dist-packages/tqdm/auto.py:21: TqdmWarning: IProgress not found. Please update jupyter and ipywidgets. See https://ipywidgets.readthedocs.io/en/stable/user_install.html\n",
      "  from .autonotebook import tqdm as notebook_tqdm\n"
     ]
    }
   ],
   "source": [
    "import utils as utils\n",
    "from transformers import (\n",
    "    AutoModelForCausalLM, \n",
    "    AutoTokenizer,\n",
    "    AutoConfig,\n",
    ")"
   ]
  },
  {
   "cell_type": "code",
   "execution_count": 2,
   "id": "396a6db7",
   "metadata": {},
   "outputs": [],
   "source": [
    "tokenizer = AutoTokenizer.from_pretrained(\n",
    "        '/mnt/cephfs/echoi/models/L1-Qwen-1.5B-Max',\n",
    "        trust_remote_code = True,\n",
    "        padding_side='left'\n",
    ")\n",
    "if tokenizer.pad_token is None:\n",
    "    tokenizer.pad_token = tokenizer.eos_token"
   ]
  },
  {
   "cell_type": "code",
   "execution_count": 6,
   "id": "045edb78",
   "metadata": {},
   "outputs": [],
   "source": [
    "text = \"</think>\\n\\nTo solve this problem, we need to determine the number of digits in the base-3 representation of the number $ 987{10} $ and the base-8 representation of the same number, and then find the difference between these two quantities.\\n\\n---\\n\\n### Step 1: Convert $ 987{10} $ to base-3\\n\\nWe repeatedly divide the number by 3 and record the remainders.\\n\\n$$\\n\\\\begin{align}\\n987 \\\\div 3 &= 329 \\\\text{ remainder } 0 \\\\\\\\\\n329 \\\\div 3 &= 109 \\\\text{ remainder } 2 \\\\\\\\\\n109 \\\\div 3 &= 36 \\\\text{ remainder } 1 \\\\\\\\\\n36 \\\\div 3 &= 12 \\\\text{ remainder } 0 \\\\\\\\\\n12 \\\\div 3 &= 4 \\\\text{ remainder } 0 \\\\\\\\\\n4 \\\\div 3 &= 1 \\\\text{ remainder } 1 \\\\\\\\\\n1 \\\\div 3 &= 0 \\\\text{ remainder } 1 \\\\\\\\\\n\\\\end{align}\\n$$\\n\\nNow, write the remainders from last to first:\\n\\n$$\\n987_{10} = 110101013\\n$$\\n\\nThis is a 7-digit number in base-3.\\n\\n---\\n\\n### Step 2: Convert $ 987{10} $ to base-8\\n\\nWe repeatedly divide the number by 8 and record the remainders.\\n\\n$$\\n\\\\begin{align}\\n987 \\\\div 8 &= 123 \\\\text{ remainder } 3 \\\\\\\\\\n123 \\\\div 8 &= 15 \\\\text{ remainder } 3 \\\\\\\\\\n15 \\\\div 8 &= 1 \\\\text{ remainder } 7 \\\\\\\\\\n1 \\\\div 8 &= 0 \\\\text{ remainder } 1 \\\\\\\\\\n\\\\end{align}\\n$$\\n\\nNow, write the remainders from last to first:\\n\\n$$\\n987_{10} = 1733_8\\n$$\\n\\nThis is a 4-digit number in base-8.\\n\\n---\\n\\n### Step 3: Find the difference in the number of digits\\n\\n- Base-3: 7 digits  \\n- Base-8: 4 digits  \\n\\n$$\\n\\\\text{Difference} = 7 - 4 = \\\\boxed{3}\""
   ]
  },
  {
   "cell_type": "code",
   "execution_count": 7,
   "id": "7cb50921",
   "metadata": {},
   "outputs": [
    {
     "data": {
      "text/plain": [
       "495"
      ]
     },
     "execution_count": 7,
     "metadata": {},
     "output_type": "execute_result"
    }
   ],
   "source": [
    "tokenizer(text, return_tensors='pt')['input_ids'][0].shape[0]"
   ]
  },
  {
   "cell_type": "code",
   "execution_count": 3,
   "id": "cfa86378",
   "metadata": {},
   "outputs": [],
   "source": [
    "solutions = utils.load_solutions('/mnt/cephfs/sumin/TPT_reproduce/mk2/output_3b_2k_8_nogold/solutions_iter_0.json')"
   ]
  },
  {
   "cell_type": "code",
   "execution_count": 27,
   "id": "98f38f3b",
   "metadata": {},
   "outputs": [],
   "source": [
    "token_length_correct = {}\n",
    "token_length_correct['tokens'] = 0\n",
    "token_length_correct['count'] = 0\n",
    "token_length_incorrect = {}\n",
    "token_length_incorrect['tokens'] = 0\n",
    "token_length_incorrect['count'] = 0"
   ]
  },
  {
   "cell_type": "code",
   "execution_count": 28,
   "id": "a9774ffe",
   "metadata": {},
   "outputs": [],
   "source": [
    "for item in solutions:\n",
    "    tokens = tokenizer(item['solution'], return_tensors='pt')['input_ids'][0].shape[0]\n",
    "    if utils.check_answer(item['extracted_answer'], utils.extract_answer(item['reference_answer'])):\n",
    "        token_length_correct['tokens'] += tokens\n",
    "        token_length_correct['count'] += 1\n",
    "    else:\n",
    "        token_length_incorrect['tokens'] += tokens\n",
    "        token_length_incorrect['count'] += 1"
   ]
  },
  {
   "cell_type": "code",
   "execution_count": 30,
   "id": "95c6a50b",
   "metadata": {},
   "outputs": [
    {
     "name": "stdout",
     "output_type": "stream",
     "text": [
      "Token Avg. length: Correct:  244.76470588235293\n",
      "Token Avg. length: InCorrect:  300.7571946795647\n"
     ]
    }
   ],
   "source": [
    "print('Token Avg. length: Correct: ', token_length_correct['tokens'] / token_length_correct['count'])\n",
    "print('Token Avg. length: InCorrect: ', token_length_incorrect['tokens'] / token_length_incorrect['count'])"
   ]
  },
  {
   "cell_type": "code",
   "execution_count": 5,
   "id": "711e4146",
   "metadata": {},
   "outputs": [],
   "source": [
    "def stat_token_length(data, tokenizer):\n",
    "    token_length_correct = {}\n",
    "    token_length_correct['tokens'] = 0\n",
    "    token_length_correct['count'] = 0\n",
    "    token_length_incorrect = {}\n",
    "    token_length_incorrect['tokens'] = 0\n",
    "    token_length_incorrect['count'] = 0\n",
    "    for item in data:\n",
    "        tokens = tokenizer(item['solution'], return_tensors='pt')['input_ids'][0].shape[0]\n",
    "        if utils.check_answer(item['extracted_answer'], item['gold_answer']):\n",
    "            token_length_correct['tokens'] += tokens\n",
    "            token_length_correct['count'] += 1\n",
    "        else:\n",
    "            token_length_incorrect['tokens'] += tokens\n",
    "            token_length_incorrect['count'] += 1\n",
    "    print('Token Avg. length: Correct: ', token_length_correct['tokens'] / token_length_correct['count'])\n",
    "    print('Token Avg. length: InCorrect: ', token_length_incorrect['tokens'] / token_length_incorrect['count'])\n",
    "    print('Token Avg. length: Correct + InCorrect: ', (token_length_incorrect['tokens'] + token_length_correct['tokens'] ) / ( token_length_incorrect['count'] + token_length_correct['count']))"
   ]
  },
  {
   "cell_type": "code",
   "execution_count": 42,
   "id": "f3e558ec",
   "metadata": {},
   "outputs": [
    {
     "name": "stdout",
     "output_type": "stream",
     "text": [
      "Token Avg. length: Correct:  244.76470588235293\n",
      "Token Avg. length: InCorrect:  300.7571946795647\n",
      "Token Avg. length: Correct + InCorrect:  267.9176\n"
     ]
    }
   ],
   "source": [
    "stat_token_length(solutions, tokenizer)"
   ]
  },
  {
   "cell_type": "code",
   "execution_count": 6,
   "id": "785f2a2f",
   "metadata": {},
   "outputs": [
    {
     "name": "stdout",
     "output_type": "stream",
     "text": [
      "Token Avg. length: Correct:  1896.076388888889\n",
      "Token Avg. length: InCorrect:  2445.5205765047135\n",
      "Token Avg. length: Correct + InCorrect:  2138.53512\n"
     ]
    }
   ],
   "source": [
    "data = utils.load_solutions('/mnt/cephfs/sumin/TPT_reproduce/mk6-vllm/output/solutions_iter_0.json')\n",
    "stat_token_length(data, tokenizer)"
   ]
  },
  {
   "cell_type": "code",
   "execution_count": 7,
   "id": "94679416",
   "metadata": {},
   "outputs": [
    {
     "name": "stdout",
     "output_type": "stream",
     "text": [
      "Token Avg. length: Correct:  1745.218927771074\n",
      "Token Avg. length: InCorrect:  2321.5071652485444\n",
      "Token Avg. length: Correct + InCorrect:  2054.06332\n"
     ]
    }
   ],
   "source": [
    "data = utils.load_solutions('/mnt/cephfs/sumin/TPT_reproduce/mk6-vllm/output/solutions_quant_iter_0.json')\n",
    "stat_token_length(data, tokenizer)"
   ]
  },
  {
   "cell_type": "code",
   "execution_count": 45,
   "id": "b2bbba1e",
   "metadata": {},
   "outputs": [
    {
     "name": "stdout",
     "output_type": "stream",
     "text": [
      "Token Avg. length: Correct:  216.2632381339567\n",
      "Token Avg. length: InCorrect:  284.2059836630253\n",
      "Token Avg. length: Correct + InCorrect:  250.78155\n"
     ]
    }
   ],
   "source": [
    "data = utils.load_solutions('/mnt/cephfs/sumin/TPT_reproduce/mk2/output_3b_2k_8_nogold/solutions_quant_iter_1.json')\n",
    "stat_token_length(data, tokenizer)"
   ]
  },
  {
   "cell_type": "code",
   "execution_count": 46,
   "id": "521f4b15",
   "metadata": {},
   "outputs": [
    {
     "name": "stdout",
     "output_type": "stream",
     "text": [
      "Token Avg. length: Correct:  247.64454976303318\n",
      "Token Avg. length: InCorrect:  304.4176295413937\n",
      "Token Avg. length: Correct + InCorrect:  271.47505\n"
     ]
    }
   ],
   "source": [
    "data = utils.load_solutions('/mnt/cephfs/sumin/TPT_reproduce/mk2/output_3b_2k_8_nogold/solutions_iter_2.json')\n",
    "stat_token_length(data, tokenizer)"
   ]
  },
  {
   "cell_type": "code",
   "execution_count": 47,
   "id": "03953de5",
   "metadata": {},
   "outputs": [
    {
     "name": "stdout",
     "output_type": "stream",
     "text": [
      "Token Avg. length: Correct:  206.12175027462467\n",
      "Token Avg. length: InCorrect:  273.0883649184663\n",
      "Token Avg. length: Correct + InCorrect:  236.5112\n"
     ]
    }
   ],
   "source": [
    "data = utils.load_solutions('/mnt/cephfs/sumin/TPT_reproduce/mk2/output_3b_2k_8_nogold/solutions_quant_iter_2.json')\n",
    "stat_token_length(data, tokenizer)"
   ]
  },
  {
   "cell_type": "code",
   "execution_count": 48,
   "id": "c2185a05",
   "metadata": {},
   "outputs": [
    {
     "name": "stdout",
     "output_type": "stream",
     "text": [
      "Token Avg. length: Correct:  245.5944826370527\n",
      "Token Avg. length: InCorrect:  303.9141437485556\n",
      "Token Avg. length: Correct + InCorrect:  270.8294\n"
     ]
    }
   ],
   "source": [
    "data = utils.load_solutions('/mnt/cephfs/sumin/TPT_reproduce/mk2/output_3b_2k_8_nogold/solutions_iter_3.json')\n",
    "stat_token_length(data, tokenizer)"
   ]
  },
  {
   "cell_type": "code",
   "execution_count": 49,
   "id": "367e1bcd",
   "metadata": {},
   "outputs": [
    {
     "name": "stdout",
     "output_type": "stream",
     "text": [
      "Token Avg. length: Correct:  200.60029460185424\n",
      "Token Avg. length: InCorrect:  261.86617803522876\n",
      "Token Avg. length: Correct + InCorrect:  226.5127\n"
     ]
    }
   ],
   "source": [
    "data = utils.load_solutions('/mnt/cephfs/sumin/TPT_reproduce/mk2/output_3b_2k_8_nogold/solutions_quant_iter_3.json')\n",
    "stat_token_length(data, tokenizer)"
   ]
  },
  {
   "cell_type": "markdown",
   "id": "4ca07a2b",
   "metadata": {},
   "source": [
    "--------------------------------------------------------3B-------------------------------------------------------"
   ]
  },
  {
   "cell_type": "code",
   "execution_count": 50,
   "id": "8d32731d",
   "metadata": {},
   "outputs": [],
   "source": [
    "tokenizer = AutoTokenizer.from_pretrained(\n",
    "        '/mnt/cephfs/sumin/model/Llama-3.2-1B-Instruct',\n",
    "        trust_remote_code = True,\n",
    "        padding_side='left'\n",
    ")\n",
    "if tokenizer.pad_token is None:\n",
    "    tokenizer.pad_token = tokenizer.eos_token"
   ]
  },
  {
   "cell_type": "code",
   "execution_count": 51,
   "id": "018aa6e3",
   "metadata": {},
   "outputs": [
    {
     "name": "stdout",
     "output_type": "stream",
     "text": [
      "Token Avg. length: Correct:  235.95531914893618\n",
      "Token Avg. length: InCorrect:  354.54977645305513\n",
      "Token Avg. length: Correct + InCorrect:  315.5322\n"
     ]
    }
   ],
   "source": [
    "data = utils.load_solutions('/mnt/cephfs/sumin/TPT_reproduce/mk2/output/solutions_iter_0.json')\n",
    "stat_token_length(data, tokenizer)"
   ]
  },
  {
   "cell_type": "code",
   "execution_count": 52,
   "id": "51b822c0",
   "metadata": {},
   "outputs": [
    {
     "name": "stdout",
     "output_type": "stream",
     "text": [
      "Token Avg. length: Correct:  260.0416666666667\n",
      "Token Avg. length: InCorrect:  695.5796824758843\n",
      "Token Avg. length: Correct + InCorrect:  693.4891\n"
     ]
    }
   ],
   "source": [
    "data = utils.load_solutions('/mnt/cephfs/sumin/TPT_reproduce/mk2/output/solutions_quant_iter_0.json')\n",
    "stat_token_length(data, tokenizer)"
   ]
  },
  {
   "cell_type": "code",
   "execution_count": 53,
   "id": "41749d0a",
   "metadata": {},
   "outputs": [
    {
     "name": "stdout",
     "output_type": "stream",
     "text": [
      "Token Avg. length: Correct:  233.19182597231378\n",
      "Token Avg. length: InCorrect:  353.77045650301466\n",
      "Token Avg. length: Correct + InCorrect:  317.1869\n"
     ]
    }
   ],
   "source": [
    "data = utils.load_solutions('/mnt/cephfs/sumin/TPT_reproduce/mk2/output/solutions_iter_1.json')\n",
    "stat_token_length(data, tokenizer)"
   ]
  },
  {
   "cell_type": "code",
   "execution_count": 54,
   "id": "15bdeeba",
   "metadata": {},
   "outputs": [
    {
     "name": "stdout",
     "output_type": "stream",
     "text": [
      "Token Avg. length: Correct:  208.2569882777277\n",
      "Token Avg. length: InCorrect:  320.06478461365424\n",
      "Token Avg. length: Correct + InCorrect:  307.6653\n"
     ]
    }
   ],
   "source": [
    "data = utils.load_solutions('/mnt/cephfs/sumin/TPT_reproduce/mk2/output/solutions_quant_iter_1.json')\n",
    "stat_token_length(data, tokenizer)"
   ]
  },
  {
   "cell_type": "code",
   "execution_count": 55,
   "id": "0764a0fa",
   "metadata": {},
   "outputs": [
    {
     "name": "stdout",
     "output_type": "stream",
     "text": [
      "Token Avg. length: Correct:  227.02246508803887\n",
      "Token Avg. length: InCorrect:  348.96898300029824\n",
      "Token Avg. length: Correct + InCorrect:  308.7998\n"
     ]
    }
   ],
   "source": [
    "data = utils.load_solutions('/mnt/cephfs/sumin/TPT_reproduce/mk2/output/solutions_iter_2.json')\n",
    "stat_token_length(data, tokenizer)"
   ]
  },
  {
   "cell_type": "code",
   "execution_count": 56,
   "id": "9aa90e07",
   "metadata": {},
   "outputs": [
    {
     "name": "stdout",
     "output_type": "stream",
     "text": [
      "Token Avg. length: Correct:  202.06031746031746\n",
      "Token Avg. length: InCorrect:  310.779290617849\n",
      "Token Avg. length: Correct + InCorrect:  297.0807\n"
     ]
    }
   ],
   "source": [
    "data = utils.load_solutions('/mnt/cephfs/sumin/TPT_reproduce/mk2/output/solutions_quant_iter_2.json')\n",
    "stat_token_length(data, tokenizer)"
   ]
  },
  {
   "cell_type": "code",
   "execution_count": 57,
   "id": "c705821e",
   "metadata": {},
   "outputs": [
    {
     "name": "stdout",
     "output_type": "stream",
     "text": [
      "Token Avg. length: Correct:  233.39923619271445\n",
      "Token Avg. length: InCorrect:  352.72938144329896\n",
      "Token Avg. length: Correct + InCorrect:  312.1094\n"
     ]
    }
   ],
   "source": [
    "data = utils.load_solutions('/mnt/cephfs/sumin/TPT_reproduce/mk2/output/solutions_iter_3.json')\n",
    "stat_token_length(data, tokenizer)"
   ]
  },
  {
   "cell_type": "code",
   "execution_count": 58,
   "id": "c58182ec",
   "metadata": {},
   "outputs": [
    {
     "name": "stdout",
     "output_type": "stream",
     "text": [
      "Token Avg. length: Correct:  202.6484440706476\n",
      "Token Avg. length: InCorrect:  305.1123595505618\n",
      "Token Avg. length: Correct + InCorrect:  292.9294\n"
     ]
    }
   ],
   "source": [
    "data = utils.load_solutions('/mnt/cephfs/sumin/TPT_reproduce/mk2/output/solutions_quant_iter_3.json')\n",
    "stat_token_length(data, tokenizer)"
   ]
  },
  {
   "cell_type": "code",
   "execution_count": null,
   "id": "523b6e60",
   "metadata": {},
   "outputs": [],
   "source": []
  }
 ],
 "metadata": {
  "kernelspec": {
   "display_name": "Python 3",
   "language": "python",
   "name": "python3"
  },
  "language_info": {
   "codemirror_mode": {
    "name": "ipython",
    "version": 3
   },
   "file_extension": ".py",
   "mimetype": "text/x-python",
   "name": "python",
   "nbconvert_exporter": "python",
   "pygments_lexer": "ipython3",
   "version": "3.10.12"
  }
 },
 "nbformat": 4,
 "nbformat_minor": 5
}
