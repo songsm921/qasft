{
 "cells": [
  {
   "cell_type": "code",
   "execution_count": 1,
   "metadata": {},
   "outputs": [
    {
     "name": "stderr",
     "output_type": "stream",
     "text": [
      "/usr/local/lib/python3.10/dist-packages/tqdm/auto.py:21: TqdmWarning: IProgress not found. Please update jupyter and ipywidgets. See https://ipywidgets.readthedocs.io/en/stable/user_install.html\n",
      "  from .autonotebook import tqdm as notebook_tqdm\n"
     ]
    }
   ],
   "source": [
    "import sys\n",
    "import os\n",
    "import utils as utils\n",
    "\n",
    "def find_large_integers(data, path=\"\"):\n",
    "    \"\"\"재귀적으로 큰 정수값을 찾는 함수\"\"\"\n",
    "    large_values = []\n",
    "    \n",
    "    if isinstance(data, dict):\n",
    "        for key, value in data.items():\n",
    "            current_path = f\"{path}.{key}\" if path else key\n",
    "            large_values.extend(find_large_integers(value, current_path))\n",
    "    \n",
    "    elif isinstance(data, list):\n",
    "        for i, item in enumerate(data):\n",
    "            current_path = f\"{path}[{i}]\"\n",
    "            large_values.extend(find_large_integers(item, current_path))\n",
    "    \n",
    "    elif isinstance(data, int):\n",
    "        # int64 범위 체크 (-2^63 ~ 2^63-1)\n",
    "        if data > 9223372036854775807 or data < -9223372036854775808:\n",
    "            large_values.append((path, data, type(data).__name__))\n",
    "    \n",
    "    return large_values\n",
    "pruned_file = os.path.join('./3k_4k_t1.0_ep2', f\"pruned_solutions_iter_1.json\")\n",
    "pruned_solutions = utils.load_solutions(pruned_file)\n",
    "# pruned_solutions에서 큰 값들 찾기\n",
    "large_ints = find_large_integers(pruned_solutions)\n",
    "for path, value, dtype in large_ints:\n",
    "    print(f\"경로: {path}, 값: {value}, 타입: {dtype}\")"
   ]
  },
  {
   "cell_type": "code",
   "execution_count": null,
   "metadata": {},
   "outputs": [],
   "source": []
  }
 ],
 "metadata": {
  "kernelspec": {
   "display_name": "Python 3",
   "language": "python",
   "name": "python3"
  },
  "language_info": {
   "codemirror_mode": {
    "name": "ipython",
    "version": 3
   },
   "file_extension": ".py",
   "mimetype": "text/x-python",
   "name": "python",
   "nbconvert_exporter": "python",
   "pygments_lexer": "ipython3",
   "version": "3.10.12"
  }
 },
 "nbformat": 4,
 "nbformat_minor": 2
}
